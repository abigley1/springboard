{
 "cells": [
  {
   "cell_type": "markdown",
   "metadata": {},
   "source": [
    "# What is the True Normal Human Body Temperature? \n",
    "\n",
    "#### Background\n",
    "\n",
    "The mean normal body temperature was held to be 37$^{\\circ}$C or 98.6$^{\\circ}$F for more than 120 years since it was first conceptualized and reported by Carl Wunderlich in a famous 1868 book. But, is this value statistically correct?"
   ]
  },
  {
   "cell_type": "markdown",
   "metadata": {},
   "source": [
    "<h3>Exercises</h3>\n",
    "\n",
    "<p>In this exercise, you will analyze a dataset of human body temperatures and employ the concepts of hypothesis testing, confidence intervals, and statistical significance.</p>\n",
    "\n",
    "<p>Answer the following questions <b>in this notebook below and submit to your Github account</b>.</p> \n",
    "\n",
    "<ol>\n",
    "<li>  Is the distribution of body temperatures normal? \n",
    "    <ul>\n",
    "    <li> Although this is not a requirement for the Central Limit Theorem to hold (read the introduction on Wikipedia's page about the CLT carefully: https://en.wikipedia.org/wiki/Central_limit_theorem), it gives us some peace of mind that the population may also be normally distributed if we assume that this sample is representative of the population.\n",
    "    <li> Think about the way you're going to check for the normality of the distribution. Graphical methods are usually used first, but there are also other ways: https://en.wikipedia.org/wiki/Normality_test\n",
    "    </ul>\n",
    "<li>  Is the sample size large? Are the observations independent?\n",
    "    <ul>\n",
    "    <li> Remember that this is a condition for the Central Limit Theorem, and hence the statistical tests we are using, to apply.\n",
    "    </ul>\n",
    "<li>  Is the true population mean really 98.6 degrees F?\n",
    "    <ul>\n",
    "    <li> First, try a bootstrap hypothesis test.\n",
    "    <li> Now, let's try frequentist statistical testing. Would you use a one-sample or two-sample test? Why?\n",
    "    <li> In this situation, is it appropriate to use the $t$ or $z$ statistic? \n",
    "    <li> Now try using the other test. How is the result be different? Why?\n",
    "    </ul>\n",
    "<li>  Draw a small sample of size 10 from the data and repeat both frequentist tests. \n",
    "    <ul>\n",
    "    <li> Which one is the correct one to use? \n",
    "    <li> What do you notice? What does this tell you about the difference in application of the $t$ and $z$ statistic?\n",
    "    </ul>\n",
    "<li>  At what temperature should we consider someone's temperature to be \"abnormal\"?\n",
    "    <ul>\n",
    "    <li> As in the previous example, try calculating everything using the boostrap approach, as well as the frequentist approach.\n",
    "    <li> Start by computing the margin of error and confidence interval. When calculating the confidence interval, keep in mind that you should use the appropriate formula for one draw, and not N draws.\n",
    "    </ul>\n",
    "<li>  Is there a significant difference between males and females in normal temperature?\n",
    "    <ul>\n",
    "    <li> What testing approach did you use and why?\n",
    "    <li> Write a story with your conclusion in the context of the original problem.\n",
    "    </ul>\n",
    "</ol>\n",
    "\n",
    "You can include written notes in notebook cells using Markdown: \n",
    "   - In the control panel at the top, choose Cell > Cell Type > Markdown\n",
    "   - Markdown syntax: http://nestacms.com/docs/creating-content/markdown-cheat-sheet\n",
    "\n",
    "#### Resources\n",
    "\n",
    "+ Information and data sources: http://www.amstat.org/publications/jse/datasets/normtemp.txt, http://www.amstat.org/publications/jse/jse_data_archive.htm\n",
    "+ Markdown syntax: http://nestacms.com/docs/creating-content/markdown-cheat-sheet\n",
    "\n",
    "****"
   ]
  },
  {
   "cell_type": "code",
   "execution_count": 2,
   "metadata": {
    "collapsed": true
   },
   "outputs": [],
   "source": [
    "import pandas as pd\n",
    "import matplotlib.pyplot as plt\n",
    "import seaborn as sns\n",
    "import numpy as np\n",
    "from scipy import stats\n",
    "df = pd.read_csv('data/human_body_temperature.csv')"
   ]
  },
  {
   "cell_type": "code",
   "execution_count": 3,
   "metadata": {
    "collapsed": true
   },
   "outputs": [],
   "source": [
    "def ecdf(data):\n",
    "    \"\"\"Compute( ECDF for a one-dimensional array of measurements.\"\"\"\n",
    "    # Number of data points: n\n",
    "    n=len(data)\n",
    "    # x-data for the ECDF: x\n",
    "    x = np.sort(data)\n",
    "\n",
    "    # y-data for the ECDF: y\n",
    "    y = np.arange(1, n+1) / n\n",
    "\n",
    "    return x, y\n",
    "\n",
    "\n",
    "\n",
    "def draw_bs_reps(data, func, size=1):\n",
    "    \"\"\"Draw bootstrap replicates.\"\"\"\n",
    "\n",
    "    # Initialize array of replicates: bs_replicates\n",
    "    bs_replicates = np.empty(size)\n",
    "\n",
    "    # Generate replicates\n",
    "    for i in range(size):\n",
    "        bs_replicates[i] = bootstrap_replicate_1d(data, func)\n",
    "\n",
    "    return bs_replicates\n",
    "\n",
    "\n",
    "\n",
    "def bootstrap_replicate_1d(data, func):\n",
    "    return func(np.random.choice(data, size=len(data)))"
   ]
  },
  {
   "cell_type": "code",
   "execution_count": 4,
   "metadata": {},
   "outputs": [
    {
     "data": {
      "text/html": [
       "<div>\n",
       "<style>\n",
       "    .dataframe thead tr:only-child th {\n",
       "        text-align: right;\n",
       "    }\n",
       "\n",
       "    .dataframe thead th {\n",
       "        text-align: left;\n",
       "    }\n",
       "\n",
       "    .dataframe tbody tr th {\n",
       "        vertical-align: top;\n",
       "    }\n",
       "</style>\n",
       "<table border=\"1\" class=\"dataframe\">\n",
       "  <thead>\n",
       "    <tr style=\"text-align: right;\">\n",
       "      <th></th>\n",
       "      <th>temperature</th>\n",
       "      <th>gender</th>\n",
       "      <th>heart_rate</th>\n",
       "    </tr>\n",
       "  </thead>\n",
       "  <tbody>\n",
       "    <tr>\n",
       "      <th>0</th>\n",
       "      <td>99.3</td>\n",
       "      <td>F</td>\n",
       "      <td>68.0</td>\n",
       "    </tr>\n",
       "    <tr>\n",
       "      <th>1</th>\n",
       "      <td>98.4</td>\n",
       "      <td>F</td>\n",
       "      <td>81.0</td>\n",
       "    </tr>\n",
       "    <tr>\n",
       "      <th>2</th>\n",
       "      <td>97.8</td>\n",
       "      <td>M</td>\n",
       "      <td>73.0</td>\n",
       "    </tr>\n",
       "    <tr>\n",
       "      <th>3</th>\n",
       "      <td>99.2</td>\n",
       "      <td>F</td>\n",
       "      <td>66.0</td>\n",
       "    </tr>\n",
       "    <tr>\n",
       "      <th>4</th>\n",
       "      <td>98.0</td>\n",
       "      <td>F</td>\n",
       "      <td>73.0</td>\n",
       "    </tr>\n",
       "  </tbody>\n",
       "</table>\n",
       "</div>"
      ],
      "text/plain": [
       "   temperature gender  heart_rate\n",
       "0         99.3      F        68.0\n",
       "1         98.4      F        81.0\n",
       "2         97.8      M        73.0\n",
       "3         99.2      F        66.0\n",
       "4         98.0      F        73.0"
      ]
     },
     "execution_count": 4,
     "metadata": {},
     "output_type": "execute_result"
    }
   ],
   "source": [
    "df.head()"
   ]
  },
  {
   "cell_type": "code",
   "execution_count": 36,
   "metadata": {},
   "outputs": [
    {
     "data": {
      "image/png": "[encoded data removed]",
      "text/plain": [
       "<matplotlib.figure.Figure at 0x7f9a3f17d630>"
      ]
     },
     "metadata": {},
     "output_type": "display_data"
    },
    {
     "data": {
      "image/png": "[encoded data removed]",
      "text/plain": [
       "<matplotlib.figure.Figure at 0x7f9a3f32d198>"
      ]
     },
     "metadata": {},
     "output_type": "display_data"
    },
    {
     "data": {
      "image/png": "[encoded data removed]",
      "text/plain": [
       "<matplotlib.figure.Figure at 0x7f9a3f347080>"
      ]
     },
     "metadata": {},
     "output_type": "display_data"
    }
   ],
   "source": [
    "df.plot('temperature', kind='hist', bins=10)\n",
    "plt.show()\n",
    "sns.swarmplot(y='temperature', data = df)\n",
    "plt.show()\n",
    "ec_x, ec_y = ecdf(df['temperature'])\n",
    "plt.plot(ec_x, ec_y, '.')\n",
    "mean= np.mean(df['temperature'])\n",
    "std = np.std(df['temperature'])\n",
    "norm = np.random.normal(mean, std, size=1000)\n",
    "ec_xn, ec_yn = ecdf(norm)\n",
    "plt.plot(ec_xn, ec_yn, '.')\n",
    "plt.xlabel('temperature')\n",
    "plt.ylabel('ecdf')\n",
    "plt.show()"
   ]
  },
  {
   "cell_type": "code",
   "execution_count": null,
   "metadata": {
    "collapsed": true
   },
   "outputs": [],
   "source": []
  },
  {
   "cell_type": "markdown",
   "metadata": {},
   "source": [
    "Graphically, the distribution of body temperature in this sample looks roughly normal"
   ]
  },
  {
   "cell_type": "code",
   "execution_count": 18,
   "metadata": {},
   "outputs": [
    {
     "name": "stdout",
     "output_type": "stream",
     "text": [
      "(0.9865770936012268, 0.233174666762352)\n",
      "\n",
      "NormaltestResult(statistic=2.7038014333192031, pvalue=0.2587479863488254)\n",
      "\n",
      "AndersonResult(statistic=0.52010388267143526, critical_values=array([ 0.56 ,  0.637,  0.765,  0.892,  1.061]), significance_level=array([ 15. ,  10. ,   5. ,   2.5,   1. ]))\n"
     ]
    }
   ],
   "source": [
    "shapiro = stats.shapiro(df['temperature'])\n",
    "normtes = stats.normaltest(df['temperature'])\n",
    "anderson = stats.anderson(df['temperature'])\n",
    "\n",
    "print(shapiro)\n",
    "print('')\n",
    "print(normtes)\n",
    "print('')\n",
    "print(anderson)"
   ]
  },
  {
   "cell_type": "markdown",
   "metadata": {},
   "source": [
    "Numerical results also suggest the normality we infered from the plots above, it seems as though human body temperatrues are normally distributed"
   ]
  },
  {
   "cell_type": "markdown",
   "metadata": {},
   "source": [
    "# question 2"
   ]
  },
  {
   "cell_type": "code",
   "execution_count": 6,
   "metadata": {},
   "outputs": [
    {
     "data": {
      "text/plain": [
       "130"
      ]
     },
     "execution_count": 6,
     "metadata": {},
     "output_type": "execute_result"
    }
   ],
   "source": [
    "len(df)"
   ]
  },
  {
   "cell_type": "markdown",
   "metadata": {},
   "source": [
    "* Sample size of 130 is greater than 30 so it is a large enough sample to fufil the normality condiditon if we hadn't already seen that the underlying data is roughly normal\n",
    "\n",
    "* Sample size is less that 10% of the population so we can assume that individuals body temperatures are independent. "
   ]
  },
  {
   "cell_type": "code",
   "execution_count": null,
   "metadata": {
    "collapsed": true
   },
   "outputs": [],
   "source": []
  },
  {
   "cell_type": "markdown",
   "metadata": {},
   "source": [
    "# Question 3"
   ]
  },
  {
   "cell_type": "markdown",
   "metadata": {},
   "source": [
    "Is the true population mean really 98.6 degrees F?\n",
    "First, try a bootstrap hypothesis test.\n",
    "Now, let's try frequentist statistical testing. Would you use a one-sample or two-sample test? Why?\n",
    "In this situation, is it appropriate to use the  tt  or  zz  statistic?\n",
    "Now try using the other test. How is the result be different? Why?"
   ]
  },
  {
   "cell_type": "code",
   "execution_count": 5,
   "metadata": {
    "collapsed": true
   },
   "outputs": [],
   "source": [
    "obs_mean= mean\n"
   ]
  },
  {
   "cell_type": "code",
   "execution_count": 6,
   "metadata": {},
   "outputs": [
    {
     "data": {
      "text/plain": [
       "0.066672238425943317"
      ]
     },
     "execution_count": 6,
     "metadata": {},
     "output_type": "execute_result"
    }
   ],
   "source": [
    "hyp_mean = 98.6\n",
    "std_d = std/np.sqrt(120)\n",
    "std_d"
   ]
  },
  {
   "cell_type": "code",
   "execution_count": 7,
   "metadata": {},
   "outputs": [
    {
     "name": "stdout",
     "output_type": "stream",
     "text": [
      "0.0\n"
     ]
    }
   ],
   "source": [
    "obs_temps = df['temperature']\n",
    "hyp_temps = df['temperature'] - (mean-hyp_mean) # data if hyp is true\n",
    "\n",
    "bs_sample = np.empty(10000)\n",
    "for i in range(10000):\n",
    "    bs_sample[i] = np.mean(np.random.choice(hyp_temps, size = len(hyp_temps)))# make distribution under asumption that hyp is true\n",
    "print(sum(bs_sample <= mean)/len(bs_sample))"
   ]
  },
  {
   "cell_type": "code",
   "execution_count": null,
   "metadata": {
    "collapsed": true
   },
   "outputs": [],
   "source": []
  },
  {
   "cell_type": "code",
   "execution_count": 8,
   "metadata": {},
   "outputs": [
    {
     "name": "stdout",
     "output_type": "stream",
     "text": [
      "t score p value =1.08257052408e-07     z score p value =2.17615758294e-08\n"
     ]
    }
   ],
   "source": [
    "std_est = std/np.sqrt(len(hyp_temps))\n",
    "t = (obs_mean- hyp_mean)/std_est\n",
    "s = stats.t.cdf(t, df = len(hyp_temps))o\n",
    "sz = stats.norm.cdf(t)\n",
    "print('t score p value =' +str(s) ,'   ',\n",
    "      'z score p value =' +str(sz))"
   ]
  },
  {
   "cell_type": "markdown",
   "metadata": {
    "collapsed": true
   },
   "source": [
    "I used a one sample test because here we are trying to compare our sample with a single value. Since we have large sample size we should be able to use a z statstic and distribution. I'd think that the t distribution would over estimate the p value because of the t distributions fatter tails. So it makes sense that the normal distribution gives a smaller p value."
   ]
  },
  {
   "cell_type": "markdown",
   "metadata": {},
   "source": [
    "# Qustion 4\n",
    "\n",
    "Draw a small sample of size 10 from the data and repeat both frequentist tests.\n",
    "Which one is the correct one to use?\n",
    "What do you notice? What does this tell you about the difference in application of the  tt  and  zz  statistic?"
   ]
  },
  {
   "cell_type": "code",
   "execution_count": 97,
   "metadata": {},
   "outputs": [
    {
     "name": "stdout",
     "output_type": "stream",
     "text": [
      "Bootstrapped p value =0.064\n"
     ]
    }
   ],
   "source": [
    "obs_temps = df['temperature']\n",
    "hyp_temps = df['temperature'] - (mean-hyp_mean) # data if hyp is true\n",
    "\n",
    "bs_sample = np.empty(1000)\n",
    "for i in range(1000):\n",
    "    bs_sample[i] = np.mean(np.random.choice(hyp_temps, size = 10))# make distribution under asumption that hyp is true\n",
    "print('Bootstrapped p value =' +str(sum(bs_sample <= mean)/len(bs_sample)))"
   ]
  },
  {
   "cell_type": "code",
   "execution_count": 93,
   "metadata": {},
   "outputs": [
    {
     "name": "stdout",
     "output_type": "stream",
     "text": [
      "t score p value =0.0798942730947     z score p value =0.0644129203416\n"
     ]
    }
   ],
   "source": [
    "std_est = std/np.sqrt(10)\n",
    "t = (obs_mean- hyp_mean)/std_est\n",
    "z = (obs_mean- hyp_mean)/std_est\n",
    "t_value = stats.t.cdf(t, df = 10)\n",
    "z_value = stats.norm.cdf(z)\n",
    "print('t score p value =' +str(t_value) ,'   ',\n",
    "      'z score p value =' +str(z_value))"
   ]
  },
  {
   "cell_type": "markdown",
   "metadata": {
    "collapsed": true
   },
   "source": [
    "Since the sample size is small (< 30) we should probably use a t test"
   ]
  },
  {
   "cell_type": "markdown",
   "metadata": {},
   "source": [
    "# Question 5\n",
    "\n",
    "At what temperature should we consider someone's temperature to be \"abnormal\"?\n",
    "As in the previous example, try calculating everything using the boostrap approach, as well as the frequentist approach.\n",
    "Start by computing the margin of error and confidence interval. When calculating the confidence interval, keep in mind that you should use the appropriate formula for one draw, and not N draws."
   ]
  },
  {
   "cell_type": "code",
   "execution_count": null,
   "metadata": {
    "collapsed": true
   },
   "outputs": [],
   "source": []
  },
  {
   "cell_type": "code",
   "execution_count": 35,
   "metadata": {},
   "outputs": [
    {
     "name": "stdout",
     "output_type": "stream",
     "text": [
      "[ 96.7  99.5]\n"
     ]
    }
   ],
   "source": [
    "obs_temps = df['temperature']\n",
    "\n",
    "bs_sample = np.empty(10000)\n",
    "\n",
    "for i in range(10000):\n",
    "    bs_sample[i] = np.mean(np.random.choice(obs_temps, size = 1))# make distribution under asumption that hyp is true\n",
    "\n",
    "print(np.percentile(bs_sample, [2.5, 97.5]))"
   ]
  },
  {
   "cell_type": "code",
   "execution_count": 38,
   "metadata": {},
   "outputs": [
    {
     "name": "stdout",
     "output_type": "stream",
     "text": [
      "1.43150124665\n"
     ]
    }
   ],
   "source": [
    "MOE = 1.96*std/np.sqrt(1)\n",
    "print(MOE)"
   ]
  },
  {
   "cell_type": "code",
   "execution_count": 34,
   "metadata": {},
   "outputs": [
    {
     "name": "stdout",
     "output_type": "stream",
     "text": [
      "96.8177295225769 99.68073201588466\n"
     ]
    }
   ],
   "source": [
    "print(mean - 1.96*std, mean +1.96*std )"
   ]
  },
  {
   "cell_type": "markdown",
   "metadata": {
    "scrolled": true
   },
   "source": [
    "If we repeated this procedure we would expect 95% of the intervals produced to contain the population mean. Since our interval was  between 96.7 and 99.5  anyone with a body temperature outside of that range could reasonably be considered abnormal. "
   ]
  },
  {
   "cell_type": "markdown",
   "metadata": {},
   "source": []
  },
  {
   "cell_type": "code",
   "execution_count": null,
   "metadata": {
    "collapsed": true
   },
   "outputs": [],
   "source": []
  },
  {
   "cell_type": "markdown",
   "metadata": {},
   "source": [
    "# question 6 \n",
    "\n",
    "Is there a significant difference between males and females in normal temperature?\n",
    "What testing approach did you use and why?\n",
    "Write a story with your conclusion in the context of the original problem."
   ]
  },
  {
   "cell_type": "code",
   "execution_count": 102,
   "metadata": {},
   "outputs": [
    {
     "data": {
      "image/png": "[encoded data removed]",
      "text/plain": [
       "<matplotlib.figure.Figure at 0x7f9a3f2f3780>"
      ]
     },
     "metadata": {},
     "output_type": "display_data"
    },
    {
     "name": "stdout",
     "output_type": "stream",
     "text": [
      "0.0214\n",
      "Ttest_indResult(statistic=2.2854345381656103, pvalue=0.023931883122395609)\n",
      "[ 0.04769231  0.53388462]\n"
     ]
    }
   ],
   "source": [
    "obs_temp_f = df[df['gender']=='F']\n",
    "obs_temp_m = df[df['gender'] == 'M']\n",
    "\n",
    "obs_temp_f = obs_temp_f['temperature']\n",
    "obs_temp_m = obs_temp_m['temperature']\n",
    "\n",
    "\n",
    "\n",
    "obs_temp_f_mean = np.mean(obs_temp_f)\n",
    "obs_temp_m_mean = np.mean(obs_temp_m)\n",
    "\n",
    "obs_temp_f_std = np.std(obs_temp_f)\n",
    "obs_temp_m_std = np.std(obs_temp_m)\n",
    "\n",
    "obs_temp_f_std_est = np.std(obs_temp_f)/len(obs_temp_f)\n",
    "obs_temp_m_std_est = np.std(obs_temp_m)/len(obs_temp_m)\n",
    "\n",
    "\n",
    "empirical_diff_means = obs_temp_f_mean - obs_temp_m_mean\n",
    "\n",
    "\n",
    "mean_temp = np.mean(obs_temps)\n",
    "\n",
    "\n",
    "x_f, y_f = ecdf(obs_temp_f)\n",
    "x_m, y_m = ecdf(obs_temp_m)\n",
    "plt.plot(x_f, y_f, '.')\n",
    "plt.plot(x_m, y_m, '.')\n",
    "plt.xlabel('temperature')\n",
    "plt.ylabel('ecdf')\n",
    "plt.legend()\n",
    "plt.show()\n",
    "\n",
    "\n",
    "\n",
    "# Generate shifted arrays\n",
    "obs_temp_m_shifted = obs_temp_m - np.mean(obs_temp_m) + mean_temp\n",
    "obs_temp_f_shifted = obs_temp_f - np.mean(obs_temp_f) + mean_temp\n",
    "\n",
    "bs_sample_m = np.empty(10000)\n",
    "bs_sample_f = np.empty(10000)\n",
    "\n",
    "for i in range(10000):\n",
    "    bs_sample_m[i] = draw_bs_reps(obs_temp_m_shifted, np.mean)\n",
    "    bs_sample_f[i] = draw_bs_reps(obs_temp_f_shifted, np.mean)\n",
    "mean_diff_bs = bs_sample_f - bs_sample_m\n",
    "print(sum(abs(mean_diff_bs) >= empirical_diff_means)/len(mean_diff_bs))\n",
    "\n",
    "\n",
    "tt = stats.ttest_ind(obs_temp_f, obs_temp_m)\n",
    "print(tt)\n",
    "\n",
    "\n",
    "\n",
    "\n",
    "bs_sample_m = np.empty(10000)\n",
    "bs_sample_f = np.empty(10000)\n",
    "\n",
    "for i in range(10000):\n",
    "    bs_sample_m[i] = draw_bs_reps(obs_temp_m, np.mean)\n",
    "    bs_sample_f[i] = draw_bs_reps(obs_temp_f, np.mean)\n",
    "mean_diff_bs = bs_sample_f - bs_sample_m\n",
    "\n",
    "#print(np.percentile(bs_sample_m, [2.5,97.5]),np.percentile(bs_sample_f, [2.5,97.5]) )\n",
    "print(np.percentile(mean_diff_bs, [2.5,97.5]))"
   ]
  },
  {
   "cell_type": "markdown",
   "metadata": {},
   "source": [
    "For this problem I started by bootstrapping a two sample test where my hypotheses were \n",
    "\n",
    "H0: $mu1 - mu2 = 0\n",
    "\n",
    "Ha: mu1 - mu2 != 0 \n",
    "\n",
    "I also ran a t test for independent means  with the same hypothesis to double check. I did both of these as two sample tests because we have two seemingly independent populations that we want to compare. This is a two tailed test so I added the absolute value of the difference in means instead of just the difference in means.\n",
    "\n",
    "Using an alpha of 0.05, we could reject our null hypothesis and conclude that there is likely a difference in body temperatrues between men and women which matches the large gap we see in the ecdf plot. The confidence interval of the difference of means runs from 0.043 to 0.541. Which means we expect 95% of intervals created with this method to contain the true difference of means "
   ]
  },
  {
   "cell_type": "code",
   "execution_count": 233,
   "metadata": {
    "collapsed": true
   },
   "outputs": [],
   "source": []
  },
  {
   "cell_type": "code",
   "execution_count": null,
   "metadata": {
    "collapsed": true
   },
   "outputs": [],
   "source": []
  },
  {
   "cell_type": "code",
   "execution_count": null,
   "metadata": {
    "collapsed": true
   },
   "outputs": [],
   "source": []
  },
  {
   "cell_type": "code",
   "execution_count": null,
   "metadata": {
    "collapsed": true
   },
   "outputs": [],
   "source": []
  },
  {
   "cell_type": "code",
   "execution_count": null,
   "metadata": {
    "collapsed": true
   },
   "outputs": [],
   "source": []
  },
  {
   "cell_type": "code",
   "execution_count": null,
   "metadata": {
    "collapsed": true
   },
   "outputs": [],
   "source": []
  }
 ],
 "metadata": {
  "kernelspec": {
   "display_name": "Python 3",
   "language": "python",
   "name": "python3"
  },
  "language_info": {
   "codemirror_mode": {
    "name": "ipython",
    "version": 3
   },
   "file_extension": ".py",
   "mimetype": "text/x-python",
   "name": "python",
   "nbconvert_exporter": "python",
   "pygments_lexer": "ipython3",
   "version": "3.6.3"
  }
 },
 "nbformat": 4,
 "nbformat_minor": 1
}
