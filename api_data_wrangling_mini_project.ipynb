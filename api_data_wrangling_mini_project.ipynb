{
 "cells": [
  {
   "cell_type": "markdown",
   "metadata": {},
   "source": [
    "This exercise will require you to pull some data from the Qunadl API. Qaundl is currently the most widely used aggregator of financial market data."
   ]
  },
  {
   "cell_type": "markdown",
   "metadata": {},
   "source": [
    "As a first step, you will need to register a free account on the http://www.quandl.com website."
   ]
  },
  {
   "cell_type": "markdown",
   "metadata": {},
   "source": [
    "After you register, you will be provided with a unique API key, that you should store:"
   ]
  },
  {
   "cell_type": "code",
   "execution_count": null,
   "metadata": {
    "collapsed": true
   },
   "outputs": [],
   "source": [
    "# Store the API key as a string - according to PEP8, constants are always named in all upper case\n",
    "API_KEY = ''"
   ]
  },
  {
   "cell_type": "markdown",
   "metadata": {},
   "source": [
    "Qaundl has a large number of data sources, but, unfortunately, most of them require a Premium subscription. Still, there are also a good number of free datasets."
   ]
  },
  {
   "cell_type": "markdown",
   "metadata": {},
   "source": [
    "For this mini project, we will focus on equities data from the Frankfurt Stock Exhange (FSE), which is available for free. We'll try and analyze the stock prices of a company called Carl Zeiss Meditec, which manufactures tools for eye examinations, as well as medical lasers for laser eye surgery: https://www.zeiss.com/meditec/int/home.html. The company is listed under the stock ticker AFX_X."
   ]
  },
  {
   "cell_type": "markdown",
   "metadata": {},
   "source": [
    "You can find the detailed Quandl API instructions here: https://docs.quandl.com/docs/time-series"
   ]
  },
  {
   "cell_type": "markdown",
   "metadata": {},
   "source": [
    "While there is a dedicated Python package for connecting to the Quandl API, we would prefer that you use the *requests* package, which can be easily downloaded using *pip* or *conda*. You can find the documentation for the package here: http://docs.python-requests.org/en/master/ "
   ]
  },
  {
   "cell_type": "markdown",
   "metadata": {},
   "source": [
    "Finally, apart from the *requests* package, you are encouraged to not use any third party Python packages, such as *pandas*, and instead focus on what's available in the Python Standard Library (the *collections* module might come in handy: https://pymotw.com/3/collections/).\n",
    "Also, since you won't have access to DataFrames, you are encouraged to us Python's native data structures - preferably dictionaries, though some questions can also be answered using lists.\n",
    "You can read more on these data structures here: https://docs.python.org/3/tutorial/datastructures.html"
   ]
  },
  {
   "cell_type": "markdown",
   "metadata": {},
   "source": [
    "Keep in mind that the JSON responses you will be getting from the API map almost one-to-one to Python's dictionaries. Unfortunately, they can be very nested, so make sure you read up on indexing dictionaries in the documentation provided above."
   ]
  },
  {
   "cell_type": "code",
   "execution_count": 68,
   "metadata": {
    "collapsed": true
   },
   "outputs": [],
   "source": [
    "# First, import the relevant modules\n",
    "import requests\n",
    "from collections import defaultdict"
   ]
  },
  {
   "cell_type": "code",
   "execution_count": 7,
   "metadata": {},
   "outputs": [
    {
     "name": "stdout",
     "output_type": "stream",
     "text": [
      "{'dataset_data': {'limit': 5, 'transform': None, 'column_index': None, 'column_names': ['Date', 'Open', 'High', 'Low', 'Close', 'Change', 'Traded Volume', 'Turnover', 'Last Price of the Day', 'Daily Traded Units', 'Daily Turnover'], 'start_date': '2000-06-07', 'end_date': '2018-07-03', 'frequency': 'daily', 'data': [['2018-07-03', None, 60.4, 57.6, 60.1, None, 117722.0, 6993521.0, None, None, None], ['2018-07-02', None, 58.4, 57.7, 58.05, None, 33629.0, 1954900.0, None, None, None], ['2018-06-29', None, 58.8, 58.15, 58.45, None, 62647.0, 3660865.0, None, None, None], ['2018-06-28', None, 59.25, 57.6, 57.95, None, 47505.0, 2766758.0, None, None, None], ['2018-06-27', None, 59.65, 58.6, 58.95, None, 96154.0, 5685432.0, None, None, None]], 'collapse': None, 'order': None}}\n"
     ]
    }
   ],
   "source": [
    "# Now, call the Quandl API and pull out a small sample of the data (only one day) to get a glimpse\n",
    "# into the JSON structure that will be returned\n",
    "\n",
    "r = requests.get('https://www.quandl.com/api/v3/datasets/FSE/AFX_X/data.json?limit=5&column_names=[api_key=***')\n",
    "print(r.json())\n"
   ]
  },
  {
   "cell_type": "code",
   "execution_count": 124,
   "metadata": {},
   "outputs": [
    {
     "data": {
      "text/plain": [
       "1"
      ]
     },
     "execution_count": 124,
     "metadata": {},
     "output_type": "execute_result"
    }
   ],
   "source": [
    "# Inspect the JSON structure of the object you created, and take note of how nested it is,\n",
    "# as well as the overall structure"
   ]
  },
  {
   "cell_type": "markdown",
   "metadata": {},
   "source": [
    "These are your tasks for this mini project:\n",
    "\n",
    "1. Collect data from the Franfurt Stock Exchange, for the ticker AFX_X, for the whole year 2017 (keep in mind that the date format is YYYY-MM-DD).\n",
    "2. Convert the returned JSON object into a Python dictionary.\n",
    "3. Calculate what the highest and lowest opening prices were for the stock in this period.\n",
    "4. What was the largest change in any one day (based on High and Low price)?\n",
    "5. What was the largest change between any two days (based on Closing Price)?\n",
    "6. What was the average daily trading volume during this year?\n",
    "7. (Optional) What was the median trading volume during this year. (Note: you may need to implement your own function for calculating the median.)"
   ]
  },
  {
   "cell_type": "code",
   "execution_count": 134,
   "metadata": {},
   "outputs": [
    {
     "name": "stdout",
     "output_type": "stream",
     "text": [
      "lowest opening price = 34.0\n",
      "highest opening price = 53.11\n",
      "the largest daily change was 1.6899999999999977\n",
      "the average trading volume was 89124.33725490196\n",
      " the largest 2 day change was 2.559999999999995\n",
      "The median trading volue was 76443.0\n"
     ]
    }
   ],
   "source": [
    "def find_median(ls):\n",
    "    sort = sorted(ls)\n",
    "    leng = len(sort)\n",
    "    if leng % 2 == 0:\n",
    "        index = leng/2\n",
    "        median = sort[index]\n",
    "    if leng % 2 != 0:\n",
    "        index = round(leng/2)\n",
    "        median = (sort[index-1] + sort[index])/2\n",
    "    return median \n",
    "\n",
    "r = requests.get('https://www.quandl.com/api/v3/datasets/FSE/AFX_X/data.json?column_names=[“Date”, “Open”,“High”,“Low”]&frequency=daily&start_date=2017-01-01&end_date=2017-12-31&api_key=***')\n",
    "json = r.json()\n",
    "\n",
    "#initalize empty lists\n",
    "dates = list()\n",
    "data = list()\n",
    "opening=list()\n",
    "closing =list()\n",
    "change24 = list() \n",
    "change48 = list() \n",
    "volume = list() \n",
    "d = defaultdict(dict)\n",
    "columns =json['dataset_data']['column_names']\n",
    "\n",
    "for index in range(0,255,1): # create lists to iterate over\n",
    "    dates.append(json['dataset_data']['data'][index][0])\n",
    "    data.append(json['dataset_data']['data'][index])\n",
    "\n",
    "\n",
    "for i in range(len(dates)):\n",
    "    for j in range(len(columns)):\n",
    "        d[dates[i]][columns[j]]= data[i][j] #fill dict\n",
    "previous_close = 51.76 # set value for first day difference check\n",
    "\n",
    "\n",
    "\n",
    "for date in dates:\n",
    "        opening.append(d[date]['Open'])\n",
    "        closing.append(d[date]['Close'])\n",
    "        if d[date]['Open'] == None or d[date]['Close'] == None:\n",
    "            pass\n",
    "        else:\n",
    "            change24.append(abs(d[date]['Open'] - d[date]['Close']))\n",
    "            change48.append(abs(previous_close - d[date]['Close'])) \n",
    "        volume.append(d[date]['Traded Volume'])\n",
    "        previous_close = d[date]['Close']\n",
    " \n",
    "#filter out nonetypes\n",
    "opening_f = filter(None.__ne__,opening)\n",
    "opening_h = filter(None.__ne__,opening)\n",
    "volume_f = filter(None.__ne__,volume)\n",
    "volume_ = filter(None.__ne__,volume)\n",
    "\n",
    "print('lowest opening price = ' + str(min(opening_f)))\n",
    "print('highest opening price = ' + str(max(opening_h)))\n",
    "print('the largest daily change was ' + str(max(change24)))\n",
    "print('the average trading volume was ' + str(sum(volume_f) /len(volume)))\n",
    "print(' the largest 2 day change was ' +str(max(change48)))\n",
    "print('The median trading volue was ' +str(find_median(volume_)))\n",
    "\n",
    "\n",
    "\n",
    "    "
   ]
  }
 ],
 "metadata": {
  "kernelspec": {
   "display_name": "Python 3",
   "language": "python",
   "name": "python3"
  },
  "language_info": {
   "codemirror_mode": {
    "name": "ipython",
    "version": 3
   },
   "file_extension": ".py",
   "mimetype": "text/x-python",
   "name": "python",
   "nbconvert_exporter": "python",
   "pygments_lexer": "ipython3",
   "version": "3.6.3"
  }
 },
 "nbformat": 4,
 "nbformat_minor": 2
}
